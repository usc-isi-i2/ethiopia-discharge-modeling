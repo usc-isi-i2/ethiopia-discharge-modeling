{
 "cells": [
  {
   "cell_type": "markdown",
   "metadata": {},
   "source": [
    "# Preamble\n",
    "\n",
    "Set up paths and environment variables"
   ]
  },
  {
   "cell_type": "code",
   "execution_count": 1,
   "metadata": {},
   "outputs": [],
   "source": [
    "model_path = \"t2wml_project/\"\n",
    "data_file = \"{}/Ethiopia_Daily_Data_Multiple_Stations.xlsx\".format(model_path)\n",
    "model_file = \"{}/discharge_model.yaml\".format(model_path)\n",
    "wikifier_file = \"{}/wikify_region_output.csv\".format(model_path)\n",
    "sheet_name = \"Baro\"\n",
    "output_path = \"data/\"\n",
    "dataset_original = \"{}/baro_example_kgtk.tsv\".format(output_path)\n",
    "dataset_id = \"{}/graph_add_id.tsv\".format(output_path)\n",
    "dataset_implode = \"{}/graph_implode.tsv\".format(output_path)\n",
    "output_file = \"{}/Baro-Masha_Discharge_2015-10_to_2018-10.csv\".format(output_path)"
   ]
  },
  {
   "cell_type": "code",
   "execution_count": 2,
   "metadata": {},
   "outputs": [],
   "source": [
    "import pandas as pd"
   ]
  },
  {
   "cell_type": "markdown",
   "metadata": {},
   "source": [
    "# Generate KGTK file from T2WML\n",
    "\n",
    "Run T2WML API to generate KGTK graph file (Can also be done from T2WML GUI via download kgtk)"
   ]
  },
  {
   "cell_type": "code",
   "execution_count": 3,
   "metadata": {},
   "outputs": [],
   "source": [
    "from t2wml.knowledge_graph import KnowledgeGraph\n",
    "\n",
    "kg = KnowledgeGraph.generate_from_files(data_file, sheet_name, model_file, wikifier_file)\n",
    "kg.save_file(dataset_original, \"kgtk\")"
   ]
  },
  {
   "cell_type": "markdown",
   "metadata": {},
   "source": [
    "# Process KGTK file\n",
    "\n",
    "Run kgtk implode to fill missing columns in graph file"
   ]
  },
  {
   "cell_type": "code",
   "execution_count": 4,
   "metadata": {},
   "outputs": [],
   "source": [
    "!kgtk add-id -i $dataset_original -o $dataset_id --id-style node1-label-num"
   ]
  },
  {
   "cell_type": "code",
   "execution_count": 5,
   "metadata": {},
   "outputs": [],
   "source": [
    "!kgtk implode -i $dataset_id -o $dataset_implode --without language_suffix si_units units_node 2>/dev/null"
   ]
  },
  {
   "cell_type": "markdown",
   "metadata": {},
   "source": [
    "# Run Kypher\n",
    "\n",
    "Generate table via KGTK Kypher with Cypher queries to graph"
   ]
  },
  {
   "cell_type": "code",
   "execution_count": 6,
   "metadata": {},
   "outputs": [],
   "source": [
    "!kgtk query -i $dataset_implode \\\n",
    "--match '(n1)-[r]->(n_discharge), \\\n",
    "    (r)-[r_date:P585]->(n_date), \\\n",
    "    (r)-[r_area:P2046]->(n_area), \\\n",
    "    (r)-[r_location:P625]->(n_location)' \\\n",
    "--return 'distinct kgtk_date_date(n_date) as date, \\\n",
    "    n_discharge as `discharge(cumecs)`, \\\n",
    "    n_area as `area(sq km)`, \\\n",
    "    n_location.`kgtk:latitude` as latitude, n_location.`kgtk:longitude` as longitude' \\\n",
    "-o $output_file"
   ]
  },
  {
   "cell_type": "markdown",
   "metadata": {},
   "source": [
    "# Clean file and generate final output\n",
    "\n",
    "Final output is data/Baro-Masha_Discharge_2015-10_to_2018-10.csv"
   ]
  },
  {
   "cell_type": "code",
   "execution_count": 7,
   "metadata": {},
   "outputs": [],
   "source": [
    "csv_table=pd.read_table(output_file,sep='\\t')\n",
    "csv_table['date'] = csv_table['date'].str[1:] # Remove caret symbol from dates\n",
    "csv_table = csv_table.sort_values(by=\"date\") # Sort by date\n",
    "csv_table.to_csv(output_file,index=False)"
   ]
  },
  {
   "cell_type": "code",
   "execution_count": null,
   "metadata": {},
   "outputs": [],
   "source": []
  }
 ],
 "metadata": {
  "kernelspec": {
   "display_name": "Python 3",
   "language": "python",
   "name": "python3"
  },
  "language_info": {
   "codemirror_mode": {
    "name": "ipython",
    "version": 3
   },
   "file_extension": ".py",
   "mimetype": "text/x-python",
   "name": "python",
   "nbconvert_exporter": "python",
   "pygments_lexer": "ipython3",
   "version": "3.7.9"
  }
 },
 "nbformat": 4,
 "nbformat_minor": 4
}
