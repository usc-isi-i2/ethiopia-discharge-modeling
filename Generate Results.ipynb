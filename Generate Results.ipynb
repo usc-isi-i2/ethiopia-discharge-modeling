{
 "cells": [
  {
   "cell_type": "code",
   "execution_count": 1,
   "metadata": {},
   "outputs": [],
   "source": [
    "model_path = \"t2wml_project/\"\n",
    "data_file = \"{}/Ethiopia_Daily_Data_Multiple_Stations.xlsx\".format(model_path)\n",
    "model_file = \"{}/discharge_model.yaml\".format(model_path)\n",
    "wikifier_file = \"{}/wikify_region_output.csv\".format(model_path)\n",
    "sheet_mapping = {\n",
    "    \"Baro\": \"Baro-Masha\",\n",
    "    \"Bulbul\": \"Bulbul-Serbo\",\n",
    "    \"Dincha\": \"Dincha-Bonga\",\n",
    "    \"Gecha\": \"Gecha-Bonga\",\n",
    "    \"Asendabo\": \"Gilgelghibe-Asendabo\",\n",
    "    \"Gojeb\": \"Gojeb-Shebe\",\n",
    "    \"Ouwa\": \"Ouwa-Gulliso\",\n",
    "    \"Sheta\": \"Sheta-Bonga\",\n",
    "    \"Sori\": \"Sore-Metu\",\n",
    "    \"Woshi\": \"Woshi-Dimbira\"\n",
    "}\n",
    "output_path = \"data/\"\n",
    "dataset_original = \"{}/temp_kgtk.tsv\".format(output_path)\n",
    "dataset_id = \"{}/temp_kgtk_add_id.tsv\".format(output_path)\n",
    "dataset_implode = \"{}/temp_kgtk_implode.tsv\".format(output_path)\n",
    "results_path = \"{}/results\".format(output_path)\n",
    "output_file = \"{}/{}_Discharge_2015-10_to_2018-10.csv\""
   ]
  },
  {
   "cell_type": "code",
   "execution_count": 2,
   "metadata": {},
   "outputs": [],
   "source": [
    "import pandas as pd\n",
    "from t2wml.knowledge_graph import KnowledgeGraph"
   ]
  },
  {
   "cell_type": "code",
   "execution_count": 3,
   "metadata": {},
   "outputs": [],
   "source": [
    "def generate_kgtk_file(data, sheet, model, wikifier, output_path):\n",
    "    kg = KnowledgeGraph.generate_from_files(data, sheet, model, wikifier)\n",
    "    kg.save_file(output_path, \"kgtk\")"
   ]
  },
  {
   "cell_type": "code",
   "execution_count": null,
   "metadata": {},
   "outputs": [],
   "source": [
    "for sheet_name, result_name in sheet_mapping.items(): \n",
    "    result_file_path = output_file.format(results_path, result_name)\n",
    "    generate_kgtk_file(data_file, sheet_name, model_file, wikifier_file, dataset_original)\n",
    "    \n",
    "    !kgtk add-id -i $dataset_original -o $dataset_id --id-style node1-label-num\n",
    "    !kgtk implode -i $dataset_id -o $dataset_implode --without language_suffix si_units units_node 2>/dev/null\n",
    "    !kgtk query -i $dataset_implode \\\n",
    "    --match '(n1)-[r]->(n_discharge), \\\n",
    "        (r)-[r_date:P585]->(n_date), \\\n",
    "        (r)-[r_area:P2046]->(n_area), \\\n",
    "        (r)-[r_location:P625]->(n_location)' \\\n",
    "    --return 'distinct kgtk_date_date(n_date) as date, \\\n",
    "        n_discharge as `discharge(cumecs)`, \\\n",
    "        n_area as `area(sq km)`, \\\n",
    "        n_location.`kgtk:latitude` as latitude, n_location.`kgtk:longitude` as longitude' \\\n",
    "    -o $result_file_path\n",
    "\n",
    "    csv_table=pd.read_table(result_file_path,sep='\\t')\n",
    "    csv_table['date'] = csv_table['date'].str[1:] # Remove caret symbol from dates\n",
    "    csv_table.to_csv(result_file_path,index=False)"
   ]
  }
 ],
 "metadata": {
  "kernelspec": {
   "display_name": "Python 3",
   "language": "python",
   "name": "python3"
  },
  "language_info": {
   "codemirror_mode": {
    "name": "ipython",
    "version": 3
   },
   "file_extension": ".py",
   "mimetype": "text/x-python",
   "name": "python",
   "nbconvert_exporter": "python",
   "pygments_lexer": "ipython3",
   "version": "3.7.9"
  }
 },
 "nbformat": 4,
 "nbformat_minor": 4
}
